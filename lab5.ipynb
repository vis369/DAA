{
 "cells": [
  {
   "cell_type": "code",
   "execution_count": 1,
   "id": "21322f14",
   "metadata": {},
   "outputs": [
    {
     "name": "stdout",
     "output_type": "stream",
     "text": [
      "3\n",
      "2\n",
      "1\n",
      "1\n",
      "4\n"
     ]
    }
   ],
   "source": [
    "def candies(n, arr):\n",
    "    candies_arr = [1] * n\n",
    "    \n",
    "    for i in range(1, n):\n",
    "        if arr[i] > arr[i-1]:\n",
    "            candies_arr[i] = candies_arr[i-1] + 1\n",
    "    \n",
    "    for i in range(n-2, -1, -1):\n",
    "        if arr[i] > arr[i+1] and candies_arr[i] <= candies_arr[i+1]:\n",
    "            candies_arr[i] = candies_arr[i+1] + 1\n",
    "    \n",
    "    total_candies = sum(candies_arr)\n",
    "    \n",
    "    return total_candies\n",
    "\n",
    "n = int(input().strip())\n",
    "arr = [int(input().strip()) for _ in range(n)]\n",
    "\n",
    "print(candies(n, arr))\n"
   ]
  },
  {
   "cell_type": "code",
   "execution_count": 4,
   "id": "37fbc263",
   "metadata": {},
   "outputs": [
    {
     "name": "stdout",
     "output_type": "stream",
     "text": [
      "12\n"
     ]
    }
   ],
   "source": [
    "def maximumPeople(population, town_locations, num_clouds, cloud_locations, cloud_ranges):\n",
    "    n = len(population)\n",
    "    m = len(cloud_locations)\n",
    "    \n",
    "    # Count populations in each town\n",
    "    town_population = {town_locations[i]: population[i] for i in range(n)}\n",
    "    \n",
    "    # Initialize total population in sunny towns\n",
    "    sunny_population = sum(population)\n",
    "    \n",
    "    # Initialize population covered by clouds\n",
    "    covered_population = [0] * n\n",
    "    \n",
    "    # Calculate covered population by each cloud\n",
    "    for i in range(m):\n",
    "        start = max(0, cloud_locations[i] - cloud_ranges[i])\n",
    "        end = min(1000000000, cloud_locations[i] + cloud_ranges[i]) # Setting a large upper limit\n",
    "        for j in range(n):\n",
    "            if start <= town_locations[j] <= end:\n",
    "                covered_population[j] += population[j]\n",
    "                \n",
    "    # Find the maximum reduction in population if one cloud is removed\n",
    "    max_reduction = 0\n",
    "    for i in range(m):\n",
    "        reduction = 0\n",
    "        start = max(0, cloud_locations[i] - cloud_ranges[i])\n",
    "        end = min(1000000000, cloud_locations[i] + cloud_ranges[i])\n",
    "        for j in range(n):\n",
    "            if start <= town_locations[j] <= end:\n",
    "                reduction += covered_population[j]\n",
    "        max_reduction = max(max_reduction, reduction)\n",
    "        \n",
    "    return sunny_population - max_reduction\n",
    "\n",
    "# Example usage:\n",
    "population = [5, 7, 2, 10]\n",
    "town_locations = [1, 3, 5, 8]\n",
    "num_clouds = 2\n",
    "cloud_locations = [2, 7]\n",
    "cloud_ranges = [2, 3]\n",
    "\n",
    "print(maximumPeople(population, town_locations, num_clouds, cloud_locations, cloud_ranges))\n"
   ]
  },
  {
   "cell_type": "code",
   "execution_count": null,
   "id": "a5bd8762",
   "metadata": {},
   "outputs": [],
   "source": []
  }
 ],
 "metadata": {
  "kernelspec": {
   "display_name": "Python 3 (ipykernel)",
   "language": "python",
   "name": "python3"
  },
  "language_info": {
   "codemirror_mode": {
    "name": "ipython",
    "version": 3
   },
   "file_extension": ".py",
   "mimetype": "text/x-python",
   "name": "python",
   "nbconvert_exporter": "python",
   "pygments_lexer": "ipython3",
   "version": "3.11.4"
  }
 },
 "nbformat": 4,
 "nbformat_minor": 5
}
